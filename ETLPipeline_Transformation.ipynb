{
  "metadata": {
    "language_info": {
      "codemirror_mode": {
        "name": "python",
        "version": 3
      },
      "file_extension": ".py",
      "mimetype": "text/x-python",
      "name": "python",
      "nbconvert_exporter": "python",
      "pygments_lexer": "ipython3",
      "version": "3.8"
    },
    "kernelspec": {
      "name": "python",
      "display_name": "Python (Pyodide)",
      "language": "python"
    }
  },
  "nbformat_minor": 4,
  "nbformat": 4,
  "cells": [
    {
      "cell_type": "code",
      "source": "import pandas as pd",
      "metadata": {
        "trusted": true
      },
      "execution_count": 8,
      "outputs": []
    },
    {
      "cell_type": "code",
      "source": "df = pd.read_csv(\"uber_data.csv\")",
      "metadata": {
        "trusted": true
      },
      "execution_count": 13,
      "outputs": []
    },
    {
      "cell_type": "code",
      "source": "df.head()",
      "metadata": {
        "trusted": true
      },
      "execution_count": 14,
      "outputs": [
        {
          "execution_count": 14,
          "output_type": "execute_result",
          "data": {
            "text/plain": "   VendorID tpep_pickup_datetime tpep_dropoff_datetime  passenger_count  \\\n0         1  2016-03-01 00:00:00   2016-03-01 00:07:55                1   \n1         1  2016-03-01 00:00:00   2016-03-01 00:11:06                1   \n2         2  2016-03-01 00:00:00   2016-03-01 00:31:06                2   \n3         2  2016-03-01 00:00:00   2016-03-01 00:00:00                3   \n4         2  2016-03-01 00:00:00   2016-03-01 00:00:00                5   \n\n   trip_distance  pickup_longitude  pickup_latitude  RatecodeID  \\\n0           2.50        -73.976746        40.765152           1   \n1           2.90        -73.983482        40.767925           1   \n2          19.98        -73.782021        40.644810           1   \n3          10.78        -73.863419        40.769814           1   \n4          30.43        -73.971741        40.792183           3   \n\n  store_and_fwd_flag  dropoff_longitude  dropoff_latitude  payment_type  \\\n0                  N         -74.004265         40.746128             1   \n1                  N         -74.005943         40.733166             1   \n2                  N         -73.974541         40.675770             1   \n3                  N         -73.969650         40.757767             1   \n4                  N         -74.177170         40.695053             1   \n\n   fare_amount  extra  mta_tax  tip_amount  tolls_amount  \\\n0          9.0    0.5      0.5        2.05          0.00   \n1         11.0    0.5      0.5        3.05          0.00   \n2         54.5    0.5      0.5        8.00          0.00   \n3         31.5    0.0      0.5        3.78          5.54   \n4         98.0    0.0      0.0        0.00         15.50   \n\n   improvement_surcharge  total_amount  \n0                    0.3         12.35  \n1                    0.3         15.35  \n2                    0.3         63.80  \n3                    0.3         41.62  \n4                    0.3        113.80  ",
            "text/html": "<div>\n<style scoped>\n    .dataframe tbody tr th:only-of-type {\n        vertical-align: middle;\n    }\n\n    .dataframe tbody tr th {\n        vertical-align: top;\n    }\n\n    .dataframe thead th {\n        text-align: right;\n    }\n</style>\n<table border=\"1\" class=\"dataframe\">\n  <thead>\n    <tr style=\"text-align: right;\">\n      <th></th>\n      <th>VendorID</th>\n      <th>tpep_pickup_datetime</th>\n      <th>tpep_dropoff_datetime</th>\n      <th>passenger_count</th>\n      <th>trip_distance</th>\n      <th>pickup_longitude</th>\n      <th>pickup_latitude</th>\n      <th>RatecodeID</th>\n      <th>store_and_fwd_flag</th>\n      <th>dropoff_longitude</th>\n      <th>dropoff_latitude</th>\n      <th>payment_type</th>\n      <th>fare_amount</th>\n      <th>extra</th>\n      <th>mta_tax</th>\n      <th>tip_amount</th>\n      <th>tolls_amount</th>\n      <th>improvement_surcharge</th>\n      <th>total_amount</th>\n    </tr>\n  </thead>\n  <tbody>\n    <tr>\n      <th>0</th>\n      <td>1</td>\n      <td>2016-03-01 00:00:00</td>\n      <td>2016-03-01 00:07:55</td>\n      <td>1</td>\n      <td>2.50</td>\n      <td>-73.976746</td>\n      <td>40.765152</td>\n      <td>1</td>\n      <td>N</td>\n      <td>-74.004265</td>\n      <td>40.746128</td>\n      <td>1</td>\n      <td>9.0</td>\n      <td>0.5</td>\n      <td>0.5</td>\n      <td>2.05</td>\n      <td>0.00</td>\n      <td>0.3</td>\n      <td>12.35</td>\n    </tr>\n    <tr>\n      <th>1</th>\n      <td>1</td>\n      <td>2016-03-01 00:00:00</td>\n      <td>2016-03-01 00:11:06</td>\n      <td>1</td>\n      <td>2.90</td>\n      <td>-73.983482</td>\n      <td>40.767925</td>\n      <td>1</td>\n      <td>N</td>\n      <td>-74.005943</td>\n      <td>40.733166</td>\n      <td>1</td>\n      <td>11.0</td>\n      <td>0.5</td>\n      <td>0.5</td>\n      <td>3.05</td>\n      <td>0.00</td>\n      <td>0.3</td>\n      <td>15.35</td>\n    </tr>\n    <tr>\n      <th>2</th>\n      <td>2</td>\n      <td>2016-03-01 00:00:00</td>\n      <td>2016-03-01 00:31:06</td>\n      <td>2</td>\n      <td>19.98</td>\n      <td>-73.782021</td>\n      <td>40.644810</td>\n      <td>1</td>\n      <td>N</td>\n      <td>-73.974541</td>\n      <td>40.675770</td>\n      <td>1</td>\n      <td>54.5</td>\n      <td>0.5</td>\n      <td>0.5</td>\n      <td>8.00</td>\n      <td>0.00</td>\n      <td>0.3</td>\n      <td>63.80</td>\n    </tr>\n    <tr>\n      <th>3</th>\n      <td>2</td>\n      <td>2016-03-01 00:00:00</td>\n      <td>2016-03-01 00:00:00</td>\n      <td>3</td>\n      <td>10.78</td>\n      <td>-73.863419</td>\n      <td>40.769814</td>\n      <td>1</td>\n      <td>N</td>\n      <td>-73.969650</td>\n      <td>40.757767</td>\n      <td>1</td>\n      <td>31.5</td>\n      <td>0.0</td>\n      <td>0.5</td>\n      <td>3.78</td>\n      <td>5.54</td>\n      <td>0.3</td>\n      <td>41.62</td>\n    </tr>\n    <tr>\n      <th>4</th>\n      <td>2</td>\n      <td>2016-03-01 00:00:00</td>\n      <td>2016-03-01 00:00:00</td>\n      <td>5</td>\n      <td>30.43</td>\n      <td>-73.971741</td>\n      <td>40.792183</td>\n      <td>3</td>\n      <td>N</td>\n      <td>-74.177170</td>\n      <td>40.695053</td>\n      <td>1</td>\n      <td>98.0</td>\n      <td>0.0</td>\n      <td>0.0</td>\n      <td>0.00</td>\n      <td>15.50</td>\n      <td>0.3</td>\n      <td>113.80</td>\n    </tr>\n  </tbody>\n</table>\n</div>"
          },
          "metadata": {}
        }
      ]
    },
    {
      "cell_type": "code",
      "source": "df.info()",
      "metadata": {
        "trusted": true
      },
      "execution_count": 15,
      "outputs": [
        {
          "name": "stdout",
          "text": "<class 'pandas.core.frame.DataFrame'>\nRangeIndex: 100000 entries, 0 to 99999\nData columns (total 19 columns):\n #   Column                 Non-Null Count   Dtype  \n---  ------                 --------------   -----  \n 0   VendorID               100000 non-null  int64  \n 1   tpep_pickup_datetime   100000 non-null  object \n 2   tpep_dropoff_datetime  100000 non-null  object \n 3   passenger_count        100000 non-null  int64  \n 4   trip_distance          100000 non-null  float64\n 5   pickup_longitude       100000 non-null  float64\n 6   pickup_latitude        100000 non-null  float64\n 7   RatecodeID             100000 non-null  int64  \n 8   store_and_fwd_flag     100000 non-null  object \n 9   dropoff_longitude      100000 non-null  float64\n 10  dropoff_latitude       100000 non-null  float64\n 11  payment_type           100000 non-null  int64  \n 12  fare_amount            100000 non-null  float64\n 13  extra                  100000 non-null  float64\n 14  mta_tax                100000 non-null  float64\n 15  tip_amount             100000 non-null  float64\n 16  tolls_amount           100000 non-null  float64\n 17  improvement_surcharge  100000 non-null  float64\n 18  total_amount           100000 non-null  float64\ndtypes: float64(12), int64(4), object(3)\nmemory usage: 13.4+ MB\n",
          "output_type": "stream"
        }
      ]
    },
    {
      "cell_type": "code",
      "source": "# data type conversion\n\ndf['tpep_pickup_datetime'] = pd.to_datetime(df['tpep_pickup_datetime'])\ndf['tpep_dropoff_datetime'] = pd.to_datetime(df['tpep_dropoff_datetime'])",
      "metadata": {
        "trusted": true
      },
      "execution_count": 17,
      "outputs": []
    },
    {
      "cell_type": "code",
      "source": "df.info()",
      "metadata": {
        "trusted": true
      },
      "execution_count": 18,
      "outputs": [
        {
          "name": "stdout",
          "text": "<class 'pandas.core.frame.DataFrame'>\nRangeIndex: 100000 entries, 0 to 99999\nData columns (total 19 columns):\n #   Column                 Non-Null Count   Dtype         \n---  ------                 --------------   -----         \n 0   VendorID               100000 non-null  int64         \n 1   tpep_pickup_datetime   100000 non-null  datetime64[ns]\n 2   tpep_dropoff_datetime  100000 non-null  datetime64[ns]\n 3   passenger_count        100000 non-null  int64         \n 4   trip_distance          100000 non-null  float64       \n 5   pickup_longitude       100000 non-null  float64       \n 6   pickup_latitude        100000 non-null  float64       \n 7   RatecodeID             100000 non-null  int64         \n 8   store_and_fwd_flag     100000 non-null  object        \n 9   dropoff_longitude      100000 non-null  float64       \n 10  dropoff_latitude       100000 non-null  float64       \n 11  payment_type           100000 non-null  int64         \n 12  fare_amount            100000 non-null  float64       \n 13  extra                  100000 non-null  float64       \n 14  mta_tax                100000 non-null  float64       \n 15  tip_amount             100000 non-null  float64       \n 16  tolls_amount           100000 non-null  float64       \n 17  improvement_surcharge  100000 non-null  float64       \n 18  total_amount           100000 non-null  float64       \ndtypes: datetime64[ns](2), float64(12), int64(4), object(1)\nmemory usage: 14.1+ MB\n",
          "output_type": "stream"
        }
      ]
    },
    {
      "cell_type": "code",
      "source": "# creating dimseion table with date feilds, removing duplicates\ndim_datetime = df[['tpep_pickup_datetime','tpep_dropoff_datetime']].drop_duplicates().reset_index(drop = True)",
      "metadata": {
        "trusted": true
      },
      "execution_count": 22,
      "outputs": []
    },
    {
      "cell_type": "code",
      "source": "dim_datetime.head(2)",
      "metadata": {
        "trusted": true
      },
      "execution_count": 23,
      "outputs": [
        {
          "execution_count": 23,
          "output_type": "execute_result",
          "data": {
            "text/plain": "  tpep_pickup_datetime tpep_dropoff_datetime\n0           2016-03-01   2016-03-01 00:07:55\n1           2016-03-01   2016-03-01 00:11:06",
            "text/html": "<div>\n<style scoped>\n    .dataframe tbody tr th:only-of-type {\n        vertical-align: middle;\n    }\n\n    .dataframe tbody tr th {\n        vertical-align: top;\n    }\n\n    .dataframe thead th {\n        text-align: right;\n    }\n</style>\n<table border=\"1\" class=\"dataframe\">\n  <thead>\n    <tr style=\"text-align: right;\">\n      <th></th>\n      <th>tpep_pickup_datetime</th>\n      <th>tpep_dropoff_datetime</th>\n    </tr>\n  </thead>\n  <tbody>\n    <tr>\n      <th>0</th>\n      <td>2016-03-01</td>\n      <td>2016-03-01 00:07:55</td>\n    </tr>\n    <tr>\n      <th>1</th>\n      <td>2016-03-01</td>\n      <td>2016-03-01 00:11:06</td>\n    </tr>\n  </tbody>\n</table>\n</div>"
          },
          "metadata": {}
        }
      ]
    },
    {
      "cell_type": "code",
      "source": "# adding/ creating columns in dim date time table\ndim_datetime['pick_hour'] = dim_datetime['tpep_pickup_datetime'].dt.hour\ndim_datetime['pick_day'] = dim_datetime['tpep_pickup_datetime'].dt.day\ndim_datetime['pick_month'] = dim_datetime['tpep_pickup_datetime'].dt.month\ndim_datetime['pick_year'] = dim_datetime['tpep_pickup_datetime'].dt.year\ndim_datetime['pick_weekday'] = dim_datetime['tpep_pickup_datetime'].dt.weekday\ndim_datetime['drop_hour'] = dim_datetime['tpep_dropoff_datetime'].dt.hour\ndim_datetime['drop_day'] = dim_datetime['tpep_dropoff_datetime'].dt.day\ndim_datetime['drop_month'] = dim_datetime['tpep_dropoff_datetime'].dt.month\ndim_datetime['drop_year'] = dim_datetime['tpep_dropoff_datetime'].dt.year\ndim_datetime['drop_weekday'] = dim_datetime['tpep_dropoff_datetime'].dt.weekday.index\n\n# creating id column using index\ndim_datetime['datetime_id'] = dim_datetime.index\n",
      "metadata": {
        "trusted": true
      },
      "execution_count": 32,
      "outputs": []
    },
    {
      "cell_type": "code",
      "source": "dim_datetime.head(2)",
      "metadata": {
        "trusted": true
      },
      "execution_count": 29,
      "outputs": [
        {
          "execution_count": 29,
          "output_type": "execute_result",
          "data": {
            "text/plain": "  tpep_pickup_datetime tpep_dropoff_datetime  pick_hour  pick_day  pick_month  \\\n0           2016-03-01   2016-03-01 00:07:55          0         1           3   \n1           2016-03-01   2016-03-01 00:11:06          0         1           3   \n\n   pick_year  pick_weekday  drop_hour  drop_day  drop_month  drop_year  \\\n0       2016             1          0         1           3       2016   \n1       2016             1          0         1           3       2016   \n\n   drop_weekday  \n0             1  \n1             1  ",
            "text/html": "<div>\n<style scoped>\n    .dataframe tbody tr th:only-of-type {\n        vertical-align: middle;\n    }\n\n    .dataframe tbody tr th {\n        vertical-align: top;\n    }\n\n    .dataframe thead th {\n        text-align: right;\n    }\n</style>\n<table border=\"1\" class=\"dataframe\">\n  <thead>\n    <tr style=\"text-align: right;\">\n      <th></th>\n      <th>tpep_pickup_datetime</th>\n      <th>tpep_dropoff_datetime</th>\n      <th>pick_hour</th>\n      <th>pick_day</th>\n      <th>pick_month</th>\n      <th>pick_year</th>\n      <th>pick_weekday</th>\n      <th>drop_hour</th>\n      <th>drop_day</th>\n      <th>drop_month</th>\n      <th>drop_year</th>\n      <th>drop_weekday</th>\n    </tr>\n  </thead>\n  <tbody>\n    <tr>\n      <th>0</th>\n      <td>2016-03-01</td>\n      <td>2016-03-01 00:07:55</td>\n      <td>0</td>\n      <td>1</td>\n      <td>3</td>\n      <td>2016</td>\n      <td>1</td>\n      <td>0</td>\n      <td>1</td>\n      <td>3</td>\n      <td>2016</td>\n      <td>1</td>\n    </tr>\n    <tr>\n      <th>1</th>\n      <td>2016-03-01</td>\n      <td>2016-03-01 00:11:06</td>\n      <td>0</td>\n      <td>1</td>\n      <td>3</td>\n      <td>2016</td>\n      <td>1</td>\n      <td>0</td>\n      <td>1</td>\n      <td>3</td>\n      <td>2016</td>\n      <td>1</td>\n    </tr>\n  </tbody>\n</table>\n</div>"
          },
          "metadata": {}
        }
      ]
    },
    {
      "cell_type": "code",
      "source": "dim_datetime.shape",
      "metadata": {
        "trusted": true
      },
      "execution_count": 30,
      "outputs": [
        {
          "execution_count": 30,
          "output_type": "execute_result",
          "data": {
            "text/plain": "(99853, 12)"
          },
          "metadata": {}
        }
      ]
    },
    {
      "cell_type": "code",
      "source": "# Rearranging the fields in the dimsenion table\ndim_datetime[['datetime_id','tpep_pickup_datetime','pick_hour','pick_day','pick_month','pick_year','pick_weekday','tpep_dropoff_datetime','drop_hour','drop_day','drop_month','drop_year','drop_weekday']]",
      "metadata": {
        "trusted": true
      },
      "execution_count": 33,
      "outputs": [
        {
          "execution_count": 33,
          "output_type": "execute_result",
          "data": {
            "text/plain": "       datetime_id tpep_pickup_datetime  pick_hour  pick_day  pick_month  \\\n0                0  2016-03-01 00:00:00          0         1           3   \n1                1  2016-03-01 00:00:00          0         1           3   \n2                2  2016-03-01 00:00:00          0         1           3   \n3                3  2016-03-01 00:00:00          0         1           3   \n4                4  2016-03-01 00:00:01          0         1           3   \n...            ...                  ...        ...       ...         ...   \n99848        99848  2016-03-01 06:17:10          6         1           3   \n99849        99849  2016-03-01 06:17:10          6         1           3   \n99850        99850  2016-03-01 06:17:10          6         1           3   \n99851        99851  2016-03-01 06:17:10          6         1           3   \n99852        99852  2016-03-01 06:17:11          6         1           3   \n\n       pick_year  pick_weekday tpep_dropoff_datetime  drop_hour  drop_day  \\\n0           2016             1   2016-03-01 00:07:55          0         1   \n1           2016             1   2016-03-01 00:11:06          0         1   \n2           2016             1   2016-03-01 00:31:06          0         1   \n3           2016             1   2016-03-01 00:00:00          0         1   \n4           2016             1   2016-03-01 00:16:04          0         1   \n...          ...           ...                   ...        ...       ...   \n99848       2016             1   2016-03-01 06:22:15          6         1   \n99849       2016             1   2016-03-01 06:32:41          6         1   \n99850       2016             1   2016-03-01 06:37:23          6         1   \n99851       2016             1   2016-03-01 06:22:09          6         1   \n99852       2016             1   2016-03-01 06:22:00          6         1   \n\n       drop_month  drop_year  drop_weekday  \n0               3       2016             0  \n1               3       2016             1  \n2               3       2016             2  \n3               3       2016             3  \n4               3       2016             4  \n...           ...        ...           ...  \n99848           3       2016         99848  \n99849           3       2016         99849  \n99850           3       2016         99850  \n99851           3       2016         99851  \n99852           3       2016         99852  \n\n[99853 rows x 13 columns]",
            "text/html": "<div>\n<style scoped>\n    .dataframe tbody tr th:only-of-type {\n        vertical-align: middle;\n    }\n\n    .dataframe tbody tr th {\n        vertical-align: top;\n    }\n\n    .dataframe thead th {\n        text-align: right;\n    }\n</style>\n<table border=\"1\" class=\"dataframe\">\n  <thead>\n    <tr style=\"text-align: right;\">\n      <th></th>\n      <th>datetime_id</th>\n      <th>tpep_pickup_datetime</th>\n      <th>pick_hour</th>\n      <th>pick_day</th>\n      <th>pick_month</th>\n      <th>pick_year</th>\n      <th>pick_weekday</th>\n      <th>tpep_dropoff_datetime</th>\n      <th>drop_hour</th>\n      <th>drop_day</th>\n      <th>drop_month</th>\n      <th>drop_year</th>\n      <th>drop_weekday</th>\n    </tr>\n  </thead>\n  <tbody>\n    <tr>\n      <th>0</th>\n      <td>0</td>\n      <td>2016-03-01 00:00:00</td>\n      <td>0</td>\n      <td>1</td>\n      <td>3</td>\n      <td>2016</td>\n      <td>1</td>\n      <td>2016-03-01 00:07:55</td>\n      <td>0</td>\n      <td>1</td>\n      <td>3</td>\n      <td>2016</td>\n      <td>0</td>\n    </tr>\n    <tr>\n      <th>1</th>\n      <td>1</td>\n      <td>2016-03-01 00:00:00</td>\n      <td>0</td>\n      <td>1</td>\n      <td>3</td>\n      <td>2016</td>\n      <td>1</td>\n      <td>2016-03-01 00:11:06</td>\n      <td>0</td>\n      <td>1</td>\n      <td>3</td>\n      <td>2016</td>\n      <td>1</td>\n    </tr>\n    <tr>\n      <th>2</th>\n      <td>2</td>\n      <td>2016-03-01 00:00:00</td>\n      <td>0</td>\n      <td>1</td>\n      <td>3</td>\n      <td>2016</td>\n      <td>1</td>\n      <td>2016-03-01 00:31:06</td>\n      <td>0</td>\n      <td>1</td>\n      <td>3</td>\n      <td>2016</td>\n      <td>2</td>\n    </tr>\n    <tr>\n      <th>3</th>\n      <td>3</td>\n      <td>2016-03-01 00:00:00</td>\n      <td>0</td>\n      <td>1</td>\n      <td>3</td>\n      <td>2016</td>\n      <td>1</td>\n      <td>2016-03-01 00:00:00</td>\n      <td>0</td>\n      <td>1</td>\n      <td>3</td>\n      <td>2016</td>\n      <td>3</td>\n    </tr>\n    <tr>\n      <th>4</th>\n      <td>4</td>\n      <td>2016-03-01 00:00:01</td>\n      <td>0</td>\n      <td>1</td>\n      <td>3</td>\n      <td>2016</td>\n      <td>1</td>\n      <td>2016-03-01 00:16:04</td>\n      <td>0</td>\n      <td>1</td>\n      <td>3</td>\n      <td>2016</td>\n      <td>4</td>\n    </tr>\n    <tr>\n      <th>...</th>\n      <td>...</td>\n      <td>...</td>\n      <td>...</td>\n      <td>...</td>\n      <td>...</td>\n      <td>...</td>\n      <td>...</td>\n      <td>...</td>\n      <td>...</td>\n      <td>...</td>\n      <td>...</td>\n      <td>...</td>\n      <td>...</td>\n    </tr>\n    <tr>\n      <th>99848</th>\n      <td>99848</td>\n      <td>2016-03-01 06:17:10</td>\n      <td>6</td>\n      <td>1</td>\n      <td>3</td>\n      <td>2016</td>\n      <td>1</td>\n      <td>2016-03-01 06:22:15</td>\n      <td>6</td>\n      <td>1</td>\n      <td>3</td>\n      <td>2016</td>\n      <td>99848</td>\n    </tr>\n    <tr>\n      <th>99849</th>\n      <td>99849</td>\n      <td>2016-03-01 06:17:10</td>\n      <td>6</td>\n      <td>1</td>\n      <td>3</td>\n      <td>2016</td>\n      <td>1</td>\n      <td>2016-03-01 06:32:41</td>\n      <td>6</td>\n      <td>1</td>\n      <td>3</td>\n      <td>2016</td>\n      <td>99849</td>\n    </tr>\n    <tr>\n      <th>99850</th>\n      <td>99850</td>\n      <td>2016-03-01 06:17:10</td>\n      <td>6</td>\n      <td>1</td>\n      <td>3</td>\n      <td>2016</td>\n      <td>1</td>\n      <td>2016-03-01 06:37:23</td>\n      <td>6</td>\n      <td>1</td>\n      <td>3</td>\n      <td>2016</td>\n      <td>99850</td>\n    </tr>\n    <tr>\n      <th>99851</th>\n      <td>99851</td>\n      <td>2016-03-01 06:17:10</td>\n      <td>6</td>\n      <td>1</td>\n      <td>3</td>\n      <td>2016</td>\n      <td>1</td>\n      <td>2016-03-01 06:22:09</td>\n      <td>6</td>\n      <td>1</td>\n      <td>3</td>\n      <td>2016</td>\n      <td>99851</td>\n    </tr>\n    <tr>\n      <th>99852</th>\n      <td>99852</td>\n      <td>2016-03-01 06:17:11</td>\n      <td>6</td>\n      <td>1</td>\n      <td>3</td>\n      <td>2016</td>\n      <td>1</td>\n      <td>2016-03-01 06:22:00</td>\n      <td>6</td>\n      <td>1</td>\n      <td>3</td>\n      <td>2016</td>\n      <td>99852</td>\n    </tr>\n  </tbody>\n</table>\n<p>99853 rows × 13 columns</p>\n</div>"
          },
          "metadata": {}
        }
      ]
    },
    {
      "cell_type": "code",
      "source": "#Creating passenger count dimension table\n\n# deleting duplicates and resetting the index\ndim_passenger_count = df[['passenger_count']].drop_duplicates().reset_index(drop = True)\n#creating id column using index\ndim_passenger_count['passenger_count_id'] = dim_passenger_count.index\n#rearranging the columns\ndim_passenger_count = dim_passenger_count[['passenger_count_id','passenger_count']]\n\n#sample data\ndim_passenger_count.head(2)",
      "metadata": {
        "trusted": true
      },
      "execution_count": 37,
      "outputs": [
        {
          "execution_count": 37,
          "output_type": "execute_result",
          "data": {
            "text/plain": "   passenger_count_id  passenger_count\n0                   0                1\n1                   1                2",
            "text/html": "<div>\n<style scoped>\n    .dataframe tbody tr th:only-of-type {\n        vertical-align: middle;\n    }\n\n    .dataframe tbody tr th {\n        vertical-align: top;\n    }\n\n    .dataframe thead th {\n        text-align: right;\n    }\n</style>\n<table border=\"1\" class=\"dataframe\">\n  <thead>\n    <tr style=\"text-align: right;\">\n      <th></th>\n      <th>passenger_count_id</th>\n      <th>passenger_count</th>\n    </tr>\n  </thead>\n  <tbody>\n    <tr>\n      <th>0</th>\n      <td>0</td>\n      <td>1</td>\n    </tr>\n    <tr>\n      <th>1</th>\n      <td>1</td>\n      <td>2</td>\n    </tr>\n  </tbody>\n</table>\n</div>"
          },
          "metadata": {}
        }
      ]
    },
    {
      "cell_type": "code",
      "source": "#Creating trip distance  dimension table\n\n# deleting duplicates and resetting the index\ndim_trip_distance = df[['trip_distance']].drop_duplicates().reset_index(drop= True)\n#creating id column using index\ndim_trip_distance['trip_distance_id'] = dim_trip_distance.index\n#rearranging the columns\ndim_trip_distance = dim_trip_distance[['trip_distance_id','trip_distance']]\n\n#sample data\ndim_trip_distance.head(2)",
      "metadata": {
        "trusted": true
      },
      "execution_count": 39,
      "outputs": [
        {
          "execution_count": 39,
          "output_type": "execute_result",
          "data": {
            "text/plain": "   trip_distance_id  trip_distance\n0                 0            2.5\n1                 1            2.9",
            "text/html": "<div>\n<style scoped>\n    .dataframe tbody tr th:only-of-type {\n        vertical-align: middle;\n    }\n\n    .dataframe tbody tr th {\n        vertical-align: top;\n    }\n\n    .dataframe thead th {\n        text-align: right;\n    }\n</style>\n<table border=\"1\" class=\"dataframe\">\n  <thead>\n    <tr style=\"text-align: right;\">\n      <th></th>\n      <th>trip_distance_id</th>\n      <th>trip_distance</th>\n    </tr>\n  </thead>\n  <tbody>\n    <tr>\n      <th>0</th>\n      <td>0</td>\n      <td>2.5</td>\n    </tr>\n    <tr>\n      <th>1</th>\n      <td>1</td>\n      <td>2.9</td>\n    </tr>\n  </tbody>\n</table>\n</div>"
          },
          "metadata": {}
        }
      ]
    },
    {
      "cell_type": "code",
      "source": "#Creating rate code  dimension table\n\n# creating dict to fetch the names or add values in name column\nrate_code_type = {\n    1 : \"Standard Rate\",\n    2 : \"JFK\",\n    3 : \"Newark\",\n    4 : \"Nassau or Westchester\",\n    5 : \"Negotiated Fare\",\n    6 : \"Group Ride\",\n}\n\n# deleting duplicates and resetting the index\ndim_rate_code = df[['RatecodeID']].drop_duplicates().reset_index(drop = True)\n\n#creating id column using index\ndim_rate_code['rate_code_id'] = dim_rate_code.index\n# mapping dict\ndim_rate_code['rate_code_name'] = dim_rate_code['RatecodeID'].map(rate_code_type)\n\n#rearranging the columns\ndim_rate_code = dim_rate_code[['rate_code_id','RatecodeID','rate_code_name']]\n\n#sample data\ndim_rate_code.head(2)",
      "metadata": {
        "trusted": true
      },
      "execution_count": 41,
      "outputs": [
        {
          "execution_count": 41,
          "output_type": "execute_result",
          "data": {
            "text/plain": "   rate_code_id  RatecodeID rate_code_name\n0             0           1  Standard Rate\n1             1           3         Newark",
            "text/html": "<div>\n<style scoped>\n    .dataframe tbody tr th:only-of-type {\n        vertical-align: middle;\n    }\n\n    .dataframe tbody tr th {\n        vertical-align: top;\n    }\n\n    .dataframe thead th {\n        text-align: right;\n    }\n</style>\n<table border=\"1\" class=\"dataframe\">\n  <thead>\n    <tr style=\"text-align: right;\">\n      <th></th>\n      <th>rate_code_id</th>\n      <th>RatecodeID</th>\n      <th>rate_code_name</th>\n    </tr>\n  </thead>\n  <tbody>\n    <tr>\n      <th>0</th>\n      <td>0</td>\n      <td>1</td>\n      <td>Standard Rate</td>\n    </tr>\n    <tr>\n      <th>1</th>\n      <td>1</td>\n      <td>3</td>\n      <td>Newark</td>\n    </tr>\n  </tbody>\n</table>\n</div>"
          },
          "metadata": {}
        }
      ]
    },
    {
      "cell_type": "code",
      "source": "#Creating pickup location  dimension table\n\ndim_pickup_location  = df[['pickup_longitude','pickup_latitude']].drop_duplicates().reset_index(drop = True)\n\n#creating id column using index\ndim_pickup_location['pickup_location_id'] = dim_pickup_location.index\n\n#rearranging the columns\ndim_pickup_location = dim_pickup_location[['pickup_location_id','pickup_latitude','pickup_longitude']]\n\n#sample data\ndim_pickup_location.head(2)\n",
      "metadata": {
        "trusted": true
      },
      "execution_count": 43,
      "outputs": [
        {
          "execution_count": 43,
          "output_type": "execute_result",
          "data": {
            "text/plain": "   pickup_location_id  pickup_latitude  pickup_longitude\n0                   0        40.765152        -73.976746\n1                   1        40.767925        -73.983482",
            "text/html": "<div>\n<style scoped>\n    .dataframe tbody tr th:only-of-type {\n        vertical-align: middle;\n    }\n\n    .dataframe tbody tr th {\n        vertical-align: top;\n    }\n\n    .dataframe thead th {\n        text-align: right;\n    }\n</style>\n<table border=\"1\" class=\"dataframe\">\n  <thead>\n    <tr style=\"text-align: right;\">\n      <th></th>\n      <th>pickup_location_id</th>\n      <th>pickup_latitude</th>\n      <th>pickup_longitude</th>\n    </tr>\n  </thead>\n  <tbody>\n    <tr>\n      <th>0</th>\n      <td>0</td>\n      <td>40.765152</td>\n      <td>-73.976746</td>\n    </tr>\n    <tr>\n      <th>1</th>\n      <td>1</td>\n      <td>40.767925</td>\n      <td>-73.983482</td>\n    </tr>\n  </tbody>\n</table>\n</div>"
          },
          "metadata": {}
        }
      ]
    },
    {
      "cell_type": "code",
      "source": "#Creating Dropoff location  dimension table\n\ndim_dropoff_location  = df[['dropoff_longitude','dropoff_latitude']].drop_duplicates().reset_index(drop = True)\n\n#creating id column using index\ndim_dropoff_location['dropoff_location_id'] = dim_dropoff_location.index\n\n#rearranging the columns\ndim_dropoff_location = dim_dropoff_location[['dropoff_location_id','dropoff_latitude','dropoff_longitude']]\n\n#sample data\ndim_dropoff_location.head(2)",
      "metadata": {
        "trusted": true
      },
      "execution_count": 44,
      "outputs": [
        {
          "execution_count": 44,
          "output_type": "execute_result",
          "data": {
            "text/plain": "   dropoff_location_id  dropoff_latitude  dropoff_longitude\n0                    0         40.746128         -74.004265\n1                    1         40.733166         -74.005943",
            "text/html": "<div>\n<style scoped>\n    .dataframe tbody tr th:only-of-type {\n        vertical-align: middle;\n    }\n\n    .dataframe tbody tr th {\n        vertical-align: top;\n    }\n\n    .dataframe thead th {\n        text-align: right;\n    }\n</style>\n<table border=\"1\" class=\"dataframe\">\n  <thead>\n    <tr style=\"text-align: right;\">\n      <th></th>\n      <th>dropoff_location_id</th>\n      <th>dropoff_latitude</th>\n      <th>dropoff_longitude</th>\n    </tr>\n  </thead>\n  <tbody>\n    <tr>\n      <th>0</th>\n      <td>0</td>\n      <td>40.746128</td>\n      <td>-74.004265</td>\n    </tr>\n    <tr>\n      <th>1</th>\n      <td>1</td>\n      <td>40.733166</td>\n      <td>-74.005943</td>\n    </tr>\n  </tbody>\n</table>\n</div>"
          },
          "metadata": {}
        }
      ]
    },
    {
      "cell_type": "code",
      "source": "#Creating payment type  dimension table\n\n# creating dict to fetch the names or add values in name column\npayment_type = {\n    1 : \"Credit Card\",\n    2 : \"Cash\",\n    3 : \"No Charge\",\n    4 : \"Dispute\",\n    5 : \"Unknown\",\n    6 : \"Voided Trip\",\n}\n\n# deleting duplicates and resetting the index\ndim_payment_type = df[['payment_type']].drop_duplicates().reset_index(drop = True)\n\n#creating id column using index\ndim_payment_type['payment_type_id'] = dim_payment_type.index\n# mapping dict\ndim_payment_type['payment_type_name'] = dim_payment_type['payment_type'].map(payment_type)\n\n#rearranging the columns\ndim_payment_type = dim_payment_type[['payment_type_id','payment_type','payment_type_name']]\n\n#sample data\ndim_payment_type.head(2)",
      "metadata": {
        "trusted": true
      },
      "execution_count": 45,
      "outputs": [
        {
          "execution_count": 45,
          "output_type": "execute_result",
          "data": {
            "text/plain": "   payment_type_id  payment_type payment_type_name\n0                0             1       Credit Card\n1                1             2              Cash",
            "text/html": "<div>\n<style scoped>\n    .dataframe tbody tr th:only-of-type {\n        vertical-align: middle;\n    }\n\n    .dataframe tbody tr th {\n        vertical-align: top;\n    }\n\n    .dataframe thead th {\n        text-align: right;\n    }\n</style>\n<table border=\"1\" class=\"dataframe\">\n  <thead>\n    <tr style=\"text-align: right;\">\n      <th></th>\n      <th>payment_type_id</th>\n      <th>payment_type</th>\n      <th>payment_type_name</th>\n    </tr>\n  </thead>\n  <tbody>\n    <tr>\n      <th>0</th>\n      <td>0</td>\n      <td>1</td>\n      <td>Credit Card</td>\n    </tr>\n    <tr>\n      <th>1</th>\n      <td>1</td>\n      <td>2</td>\n      <td>Cash</td>\n    </tr>\n  </tbody>\n</table>\n</div>"
          },
          "metadata": {}
        }
      ]
    },
    {
      "cell_type": "code",
      "source": "# Fact table creation \n\nfact_uber = df.merge(dim_passenger_count, on = 'passenger_count')\\\n            .merge(dim_trip_distance, on = 'trip_distance')\\\n            .merge(dim_rate_code, on = 'RatecodeID')\\\n            .merge(dim_pickup_location, on = ['pickup_latitude','pickup_longitude'])\\\n            .merge(dim_dropoff_location, on = ['dropoff_latitude','dropoff_longitude'])\\\n            .merge(dim_datetime, on = ['tpep_pickup_datetime','tpep_dropoff_datetime'])\\\n            .merge(dim_payment_type, on = 'payment_type')\\\n            [['VendorID','datetime_id','passenger_count_id','trip_distance_id','rate_code_id',\n              'store_and_fwd_flag','pickup_location_id','dropoff_location_id',\n              'payment_type_id','fare_amount','extra','mta_tax','tip_amount','tolls_amount',\n              'improvement_surcharge','total_amount']]\n",
      "metadata": {
        "trusted": true
      },
      "execution_count": 50,
      "outputs": []
    },
    {
      "cell_type": "code",
      "source": "fact_uber.columns",
      "metadata": {
        "trusted": true
      },
      "execution_count": 51,
      "outputs": [
        {
          "execution_count": 51,
          "output_type": "execute_result",
          "data": {
            "text/plain": "Index(['VendorID', 'datetime_id', 'passenger_count_id', 'trip_distance_id',\n       'rate_code_id', 'store_and_fwd_flag', 'pickup_location_id',\n       'dropoff_location_id', 'payment_type_id', 'fare_amount', 'extra',\n       'mta_tax', 'tip_amount', 'tolls_amount', 'improvement_surcharge',\n       'total_amount'],\n      dtype='object')"
          },
          "metadata": {}
        }
      ]
    },
    {
      "cell_type": "code",
      "source": "fact_uber.head(2)",
      "metadata": {
        "trusted": true
      },
      "execution_count": 52,
      "outputs": [
        {
          "execution_count": 52,
          "output_type": "execute_result",
          "data": {
            "text/plain": "   VendorID  datetime_id  passenger_count_id  trip_distance_id  rate_code_id  \\\n0         1            0                   0                 0             0   \n1         2         1491                   0                 0             0   \n\n  store_and_fwd_flag  pickup_location_id  dropoff_location_id  \\\n0                  N                   0                    0   \n1                  N                1481                 1484   \n\n   payment_type_id  fare_amount  extra  mta_tax  tip_amount  tolls_amount  \\\n0                0          9.0    0.5      0.5        2.05           0.0   \n1                0         10.5    0.0      0.5        2.26           0.0   \n\n   improvement_surcharge  total_amount  \n0                    0.3         12.35  \n1                    0.3         13.56  ",
            "text/html": "<div>\n<style scoped>\n    .dataframe tbody tr th:only-of-type {\n        vertical-align: middle;\n    }\n\n    .dataframe tbody tr th {\n        vertical-align: top;\n    }\n\n    .dataframe thead th {\n        text-align: right;\n    }\n</style>\n<table border=\"1\" class=\"dataframe\">\n  <thead>\n    <tr style=\"text-align: right;\">\n      <th></th>\n      <th>VendorID</th>\n      <th>datetime_id</th>\n      <th>passenger_count_id</th>\n      <th>trip_distance_id</th>\n      <th>rate_code_id</th>\n      <th>store_and_fwd_flag</th>\n      <th>pickup_location_id</th>\n      <th>dropoff_location_id</th>\n      <th>payment_type_id</th>\n      <th>fare_amount</th>\n      <th>extra</th>\n      <th>mta_tax</th>\n      <th>tip_amount</th>\n      <th>tolls_amount</th>\n      <th>improvement_surcharge</th>\n      <th>total_amount</th>\n    </tr>\n  </thead>\n  <tbody>\n    <tr>\n      <th>0</th>\n      <td>1</td>\n      <td>0</td>\n      <td>0</td>\n      <td>0</td>\n      <td>0</td>\n      <td>N</td>\n      <td>0</td>\n      <td>0</td>\n      <td>0</td>\n      <td>9.0</td>\n      <td>0.5</td>\n      <td>0.5</td>\n      <td>2.05</td>\n      <td>0.0</td>\n      <td>0.3</td>\n      <td>12.35</td>\n    </tr>\n    <tr>\n      <th>1</th>\n      <td>2</td>\n      <td>1491</td>\n      <td>0</td>\n      <td>0</td>\n      <td>0</td>\n      <td>N</td>\n      <td>1481</td>\n      <td>1484</td>\n      <td>0</td>\n      <td>10.5</td>\n      <td>0.0</td>\n      <td>0.5</td>\n      <td>2.26</td>\n      <td>0.0</td>\n      <td>0.3</td>\n      <td>13.56</td>\n    </tr>\n  </tbody>\n</table>\n</div>"
          },
          "metadata": {}
        }
      ]
    },
    {
      "cell_type": "code",
      "source": "",
      "metadata": {},
      "execution_count": null,
      "outputs": []
    }
  ]
}
